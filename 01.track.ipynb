{
 "cells": [
  {
   "cell_type": "code",
   "execution_count": 1,
   "metadata": {},
   "outputs": [],
   "source": [
    "from imutils.video import VideoStream\n",
    "import argparse\n",
    "import imutils\n",
    "import time\n",
    "import cv2"
   ]
  },
  {
   "cell_type": "code",
   "execution_count": 2,
   "metadata": {},
   "outputs": [],
   "source": [
    "OPENCV_OBJECT_TRACKERS = {\n",
    "    \"csrt\": cv2.TrackerCSRT_create,\n",
    "    \"kcf\": cv2.TrackerKCF_create,\n",
    "    \"boosting\": cv2.TrackerBoosting_create,\n",
    "    \"mil\": cv2.TrackerMIL_create,\n",
    "    \"tld\": cv2.TrackerTLD_create,\n",
    "    \"medianflow\": cv2.TrackerMedianFlow_create,\n",
    "    \"mosse\": cv2.TrackerMOSSE_create\n",
    "    }\n",
    "trackers = cv2.MultiTracker_create()"
   ]
  },
  {
   "cell_type": "code",
   "execution_count": 3,
   "metadata": {},
   "outputs": [],
   "source": [
    "vs = cv2.VideoCapture(\"videos/messi.mp4\")\n",
    "CVTracker = \"csrt\""
   ]
  },
  {
   "cell_type": "code",
   "execution_count": 4,
   "metadata": {},
   "outputs": [],
   "source": [
    "while True:\n",
    "    frame = vs.read()\n",
    "    frame = frame[1]\n",
    "    if frame is None: \n",
    "        out.release()\n",
    "        vs.release()\n",
    "        cv2.destroyAllWindows()\n",
    "\n",
    "        break\n",
    "       \n",
    "    #uncomment if u want to resive window\n",
    "    #frame = imutils.resize(frame, width=800, height=800)\n",
    "    \n",
    "    (success, boxes) = trackers.update(frame)\n",
    "    \n",
    "    for box in boxes:\n",
    "        (x, y, w, h) = [int(v) for v in box]\n",
    "        cv2.rectangle(frame, (x, y), (x + w, y + h), (0, 255, 0), 2)\n",
    "\n",
    "    info = [\n",
    "        (\"Tracker: \", CVTracker),\n",
    "        (\"objects: \", str(len(boxes))),\n",
    "        (\"ROI: \", \"Hold[S]+Draw\"),\n",
    "        (\"ClearBoxes: \", \"[C]\"),\n",
    "        (\"Play: \", \"[Spacebar]\"),\n",
    "        ]\n",
    "    \n",
    "    for (i, (k, v)) in enumerate(info):\n",
    "        text = k + v\n",
    "        cv2.putText(frame, text, (10, 30*i+20),\n",
    "            cv2.FONT_HERSHEY_SIMPLEX, 0.4, (0, 0, 255), 1)\n",
    "    cv2.imshow(\"Frame\", frame)\n",
    "   \n",
    "    key = cv2.waitKey(1) & 0xFF\n",
    "    if key == ord(\"s\"):\n",
    "        box = cv2.selectROI(\"Frame\", frame, fromCenter=False,\n",
    "            showCrosshair=True)\n",
    "\n",
    "        tracker = OPENCV_OBJECT_TRACKERS[CVTracker]()\n",
    "        trackers.add(tracker, frame, box)\n",
    "        \n",
    "    elif key == ord(\"q\"):\n",
    "        out.release()\n",
    "        vs.release()\n",
    "        cv2.destroyAllWindows()\n",
    "        break\n",
    "        \n",
    "    elif key == ord(\"c\"):\n",
    "        boxes = None\n",
    "        del trackers\n",
    "        trackers = cv2.MultiTracker_create()\n"
   ]
  },
  {
   "cell_type": "code",
   "execution_count": null,
   "metadata": {},
   "outputs": [],
   "source": []
  }
 ],
 "metadata": {
  "kernelspec": {
   "display_name": "Python 3",
   "language": "python",
   "name": "python3"
  },
  "language_info": {
   "codemirror_mode": {
    "name": "ipython",
    "version": 3
   },
   "file_extension": ".py",
   "mimetype": "text/x-python",
   "name": "python",
   "nbconvert_exporter": "python",
   "pygments_lexer": "ipython3",
   "version": "3.5.5"
  }
 },
 "nbformat": 4,
 "nbformat_minor": 2
}
